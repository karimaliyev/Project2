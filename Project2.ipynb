{
 "cells": [
  {
   "cell_type": "code",
   "execution_count": null,
   "id": "b26283f6-9b90-495f-aad2-729a14ea4834",
   "metadata": {},
   "outputs": [],
   "source": [
    "## SETUP.PY"
   ]
  },
  {
   "cell_type": "code",
   "execution_count": null,
   "id": "ace588af-e549-4105-aa88-c6bfd2efdad8",
   "metadata": {},
   "outputs": [],
   "source": [
    "# import modules\n",
    "import numpy as np\n",
    "from scipy.sparse import diags\n",
    "from scipy.linalg import lu, solve"
   ]
  },
  {
   "cell_type": "code",
   "execution_count": null,
   "id": "b5f428e4-107a-443a-aad0-35e7305f2ddc",
   "metadata": {},
   "outputs": [],
   "source": [
    "# set up matrices\n",
    "def setup(n):\n",
    "    # Constants\n",
    "    L = 120\n",
    "    S = 1000\n",
    "    q = 100 / 12\n",
    "    E = 3.0e7\n",
    "    I = 625\n",
    "    Q = S / (E * I)\n",
    "    R = q / (2 * E * I)\n",
    "    \n",
    "    # Compute step size\n",
    "    h = L / n\n",
    "    d = 2 + h**2 * Q\n",
    "    \n",
    "    # Adjust n\n",
    "    n -= 1\n",
    "    \n",
    "    # Construct A matrix\n",
    "    e = np.ones(n)\n",
    "    diagonals = [-e, d * e, -e]\n",
    "    offsets = [-1, 0, 1]\n",
    "    A = diags(diagonals, offsets, shape=(n, n)).toarray()\n",
    "    \n",
    "    # Define r function\n",
    "    r = lambda x: R * x * (x - L)\n",
    "    \n",
    "    # Compute b vector\n",
    "    x = np.linspace(h, L - h, n)\n",
    "    b = -h**2 * r(x)\n",
    "    \n",
    "    return A, b\n"
   ]
  },
  {
   "cell_type": "code",
   "execution_count": null,
   "id": "91aea0bc-35f8-4c53-84b8-f225a9353503",
   "metadata": {},
   "outputs": [],
   "source": [
    "# Example usage:\n",
    "A, b = setup(2**11)\n",
    "print(\"Matrix A:\")\n",
    "print(A)\n",
    "print(\"Matrix b:\")\n",
    "print(b)"
   ]
  },
  {
   "cell_type": "code",
   "execution_count": null,
   "id": "1cec5931-4d2e-4848-a067-c731ccdc6fbc",
   "metadata": {},
   "outputs": [],
   "source": [
    "# Solve matrix using PA = LU Factorization and 2 Backsolves\n",
    "P, L, U = lu(A)\n",
    "c = solve(L, P @ b)\n",
    "x = solve(U, c)\n",
    "print(\"X = \",x)\n",
    "\n",
    "# get condtion number\n",
    "print(\"Condition number =\", np.linalg.cond(A))"
   ]
  }
 ],
 "metadata": {
  "kernelspec": {
   "display_name": "Python 3 (ipykernel)",
   "language": "python",
   "name": "python3"
  },
  "language_info": {
   "codemirror_mode": {
    "name": "ipython",
    "version": 3
   },
   "file_extension": ".py",
   "mimetype": "text/x-python",
   "name": "python",
   "nbconvert_exporter": "python",
   "pygments_lexer": "ipython3",
   "version": "3.11.5"
  }
 },
 "nbformat": 4,
 "nbformat_minor": 5
}
